{
 "cells": [
  {
   "cell_type": "markdown",
   "id": "9f31725b",
   "metadata": {},
   "source": [
    "the below code verifies weather the given sequence is a nucleotide sequence or not. any biological sequence with ATGC/AUGC is considered as a nucleotide sequence and the string with other than this characters is considered as not a nucleotide sequence. ex: Aminoacid sequence, which contains aminoacid residues."
   ]
  },
  {
   "cell_type": "code",
   "execution_count": null,
   "id": "ea0fbe70",
   "metadata": {},
   "outputs": [],
   "source": [
    "# to check weather the given sequence has only ATGC and check the GC content of it\n",
    "DNA = input(\"ENTER DNA SEQUENCE: \")\n",
    "G = DNA.count(\"G\")\n",
    "C = DNA.count(\"C\")\n",
    "A = DNA.count(\"A\")\n",
    "T = DNA.count(\"T\")\n",
    "COUNT = A+C+G+T\n",
    "length = len(DNA)\n",
    "if (length/COUNT == 1) :\n",
    "    print (\"good sequence\")\n",
    "    GC_TOTAL = G+C\n",
    "    COUNT = G+C+T+A\n",
    "    GC_CONTENT = (GC_TOTAL/COUNT)*100\n",
    "    print (GC_CONTENT)\n",
    "else : \n",
    "     print (\"bad sequence\")"
   ]
  },
  {
   "cell_type": "markdown",
   "id": "32973845",
   "metadata": {},
   "source": [
    "the below code first finds weather a DNA sequence is correct or not and then finds start and stop codons in it and also calculates GC content in it."
   ]
  },
  {
   "cell_type": "code",
   "execution_count": null,
   "id": "cbec24f5",
   "metadata": {},
   "outputs": [],
   "source": [
    "DNA = input(\"ENTER THE DNA SEQUENCE \")\n",
    "G = DNA.count(\"G\")\n",
    "C = DNA.count(\"C\")\n",
    "A = DNA.count(\"A\")\n",
    "T = DNA.count(\"T\")\n",
    "COUNT = A+C+G+T\n",
    "length = len(DNA)\n",
    "if (length/COUNT == 1) :\n",
    "    print(\" good sequence\")\n",
    "    GC_TOTAL = G+C\n",
    "    COUNT = G+C+T+A\n",
    "    GC_CONTENT = (GC_TOTAL/COUNT)*100\n",
    "    TM_value = (A+T)*2+(G+C)*4\n",
    "    print (\"the tm value is : \", TM_value)\n",
    "    print (\"IT HAS GC CONTENT :\", GC_CONTENT)\n",
    "else :\n",
    "       print (\"BAD SEQUENCE\")\n",
    "if DNA.startswith('ATG') and DNA.endswith('TAG'):\n",
    "    print (\" SEQUENCE HAS BOTH START AND STOP CODONS\")\n",
    "if DNA.startswith('AUG'):\n",
    "    print (\"it has start codon\")\n",
    "if DNA.endswith('TAG'):\n",
    "   print (\"it has stop codon\")\n",
    "else :\n",
    "    print (\"it dosent have any stopcodon or start codon\")"
   ]
  },
  {
   "cell_type": "code",
   "execution_count": null,
   "id": "30dad572",
   "metadata": {},
   "outputs": [],
   "source": []
  },
  {
   "cell_type": "code",
   "execution_count": null,
   "id": "99cc8b24",
   "metadata": {},
   "outputs": [],
   "source": []
  }
 ],
 "metadata": {
  "kernelspec": {
   "display_name": "Python 3 (ipykernel)",
   "language": "python",
   "name": "python3"
  },
  "language_info": {
   "codemirror_mode": {
    "name": "ipython",
    "version": 3
   },
   "file_extension": ".py",
   "mimetype": "text/x-python",
   "name": "python",
   "nbconvert_exporter": "python",
   "pygments_lexer": "ipython3",
   "version": "3.9.13"
  }
 },
 "nbformat": 4,
 "nbformat_minor": 5
}
