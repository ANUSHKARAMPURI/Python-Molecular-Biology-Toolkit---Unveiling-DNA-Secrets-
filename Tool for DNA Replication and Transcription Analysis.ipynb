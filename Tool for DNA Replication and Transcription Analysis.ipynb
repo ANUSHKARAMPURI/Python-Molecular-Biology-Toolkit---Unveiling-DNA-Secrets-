{
 "cells": [
  {
   "cell_type": "markdown",
   "id": "68fe3129",
   "metadata": {},
   "source": [
    "This notebook explores constructing different functions for calculating length, confirming its the nucleotide, GC content and then replicating the sequence with reverse complementation and developing a RNA sequene from DNA sequence as input.\n",
    "\n",
    "Reverse Complement of DNA:\n",
    "The reverse complement of DNA is a sequence that matches the original DNA strand by replacing each nucleotide with its complementary base. For example, adenine (A) is replaced with thymine (T), and guanine (G) is replaced with cytosine (C). This process is crucial in molecular biology for tasks like primer design and understanding the genetic code.\n",
    "\n",
    "Transcription:\n",
    "Transcription is a vital biological process where a gene's DNA sequence is used as a template to synthesize a complementary RNA molecule. It plays a central role in gene expression, allowing the genetic information stored in DNA to be transcribed into RNA. This RNA, known as messenger RNA (mRNA), carries the instructions needed for protein synthesis, ultimately determining an organism's traits and functions."
   ]
  },
  {
   "cell_type": "code",
   "execution_count": 7,
   "id": "051265bf",
   "metadata": {},
   "outputs": [],
   "source": [
    "def GC(DNA):\n",
    "    counter = 0\n",
    "    DNA_LENGTH = len(DNA)\n",
    "    for base in DNA:\n",
    "        if base == 'G' or base == 'C' :\n",
    "            counter = counter+1\n",
    "    print (\"%GC\", (counter/DNA_LENGTH)*100)\n",
    "    return (counter/DNA_LENGTH)*100"
   ]
  },
  {
   "cell_type": "code",
   "execution_count": 8,
   "id": "29745a66",
   "metadata": {
    "scrolled": true
   },
   "outputs": [
    {
     "name": "stdout",
     "output_type": "stream",
     "text": [
      "ENTER THE DNA SEQ: ATGCGATGCAGTGACGTAG\n",
      "%GC 52.63157894736842\n"
     ]
    },
    {
     "data": {
      "text/plain": [
       "52.63157894736842"
      ]
     },
     "execution_count": 8,
     "metadata": {},
     "output_type": "execute_result"
    }
   ],
   "source": [
    "DNA = input (\"ENTER THE DNA SEQ: \")\n",
    "GC(DNA)"
   ]
  },
  {
   "cell_type": "code",
   "execution_count": 1,
   "id": "2b0e604b",
   "metadata": {},
   "outputs": [
    {
     "name": "stdout",
     "output_type": "stream",
     "text": [
      "ENTER DNA SEQUENCE: KJBUKBKBK\n",
      "invalid input\n",
      "the reverse sequence is   \n",
      "normal sequence:   \n"
     ]
    }
   ],
   "source": [
    "DNA = input(\"ENTER DNA SEQUENCE: \")\n",
    "new = \" \"\n",
    "for base in DNA:\n",
    "        if base not in 'ATGC':\n",
    "            print (\"invalid input\")\n",
    "            break\n",
    "        if base == 'A':\n",
    "            new += 'U'\n",
    "        elif base == 'C':\n",
    "            new += 'G'\n",
    "        elif base == 'T':\n",
    "            new += 'A'\n",
    "        else:\n",
    "            new += 'C'\n",
    "\n",
    "reverse_DNA = new[::-1]            \n",
    "print(\"the reverse sequence is \", reverse_DNA)\n",
    "print (\"normal sequence: \", new)\n",
    "            "
   ]
  },
  {
   "cell_type": "code",
   "execution_count": null,
   "id": "981e6465",
   "metadata": {},
   "outputs": [],
   "source": []
  },
  {
   "cell_type": "code",
   "execution_count": 22,
   "id": "9ba088f7",
   "metadata": {},
   "outputs": [],
   "source": [
    "def DNAtoRNA (DNA):\n",
    "    RNA = ''\n",
    "    for base in DNA:\n",
    "        if base =='T':\n",
    "            RNA = RNA +'U'\n",
    "        else:\n",
    "            RNA = RNA + base\n",
    "    return RNA"
   ]
  },
  {
   "cell_type": "code",
   "execution_count": 23,
   "id": "44ed60bf",
   "metadata": {},
   "outputs": [
    {
     "name": "stdout",
     "output_type": "stream",
     "text": [
      "DNA SEQ:  ATGCTGACGT\n"
     ]
    },
    {
     "data": {
      "text/plain": [
       "'AUGCUGACGU'"
      ]
     },
     "execution_count": 23,
     "metadata": {},
     "output_type": "execute_result"
    }
   ],
   "source": [
    "DNA = input(\"DNA SEQ:  \")\n",
    "DNAtoRNA(DNA)\n"
   ]
  },
  {
   "cell_type": "code",
   "execution_count": 42,
   "id": "f59d2e17",
   "metadata": {
    "scrolled": true
   },
   "outputs": [
    {
     "name": "stdout",
     "output_type": "stream",
     "text": [
      "ENTER DNA SEQUENCE: TGCATGACGATAGA\n",
      " reverse DNA is:  AGATAGCAGTACGT\n",
      "transcribed sequence:   UCUAUCGUCAUGCA\n"
     ]
    }
   ],
   "source": [
    "# TRANSCRIPTION WITH CHANGE IN ORIENTATION\n",
    "DNA = input(\"ENTER DNA SEQUENCE: \")\n",
    "new = \" \"\n",
    "reverse_DNA = DNA[::-1]\n",
    "print (\" reverse DNA is: \", reverse_DNA)\n",
    "for base in reverse_DNA:\n",
    "        if base not in 'ATGC':\n",
    "            print (\"invalid input\")\n",
    "            break\n",
    "        if base == 'A':\n",
    "            new += 'U'\n",
    "        elif base == 'C':\n",
    "            new += 'G'\n",
    "        elif base == 'T':\n",
    "            new += 'A'\n",
    "        else:\n",
    "            new += 'C'\n",
    "\n",
    "print (\"transcribed sequence: \", new)\n"
   ]
  },
  {
   "cell_type": "code",
   "execution_count": 43,
   "id": "794ea6f3",
   "metadata": {},
   "outputs": [
    {
     "name": "stdout",
     "output_type": "stream",
     "text": [
      "reverse complentation sequence is :\n",
      "TCTATCGTCATGCA"
     ]
    }
   ],
   "source": [
    "# transcription\n",
    "print (\"reverse complentation sequence is :\")\n",
    "for base in reverse_DNA:\n",
    "    if (base =='A'):\n",
    "        print (\"T\", end = \"\")\n",
    "    elif (base == \"T\"):\n",
    "        print (\"A\", end = \"\")\n",
    "    elif (base == \"C\"):\n",
    "        print (\"G\", end = \"\")\n",
    "    elif (base == \"G\"):\n",
    "        print (\"C\", end = \"\")"
   ]
  },
  {
   "cell_type": "code",
   "execution_count": 59,
   "id": "991a0c18",
   "metadata": {},
   "outputs": [
    {
     "name": "stdout",
     "output_type": "stream",
     "text": [
      "DNA SEQUENCE: ATGC\n",
      "T A C G "
     ]
    }
   ],
   "source": [
    "DNA  = input (\"DNA SEQUENCE: \")\n",
    "for base in DNA:\n",
    "    if (base =='A'):\n",
    "        print (\"T\", end = \" \")\n",
    "    elif (base == \"T\"):\n",
    "        print (\"A\", end = \" \")\n",
    "    elif (base == \"C\"):\n",
    "        print (\"G\", end = \" \")\n",
    "    elif (base == \"G\"):\n",
    "        print (\"C\", end = \" \")"
   ]
  },
  {
   "cell_type": "code",
   "execution_count": 58,
   "id": "644eb56d",
   "metadata": {},
   "outputs": [
    {
     "name": "stdout",
     "output_type": "stream",
     "text": [
      "ENTER SEQUENCE: ATGCATGCCGTACGTA\n"
     ]
    },
    {
     "data": {
      "text/plain": [
       "'ATGCATGCCGTACGTA'"
      ]
     },
     "execution_count": 58,
     "metadata": {},
     "output_type": "execute_result"
    }
   ],
   "source": [
    "# function to define reverseing DNA unlike the previous program which is without defining a function.\n",
    "DNA = input(\"ENTER SEQUENCE: \")\n",
    "def r(DNA):\n",
    "    rev_seq = DNA[::-1]\n",
    "    RNA = rev_seq.replace('T','U')\n",
    "    return rev_seq\n",
    "r(DNA)\n"
   ]
  },
  {
   "cell_type": "code",
   "execution_count": 8,
   "id": "d86f88cf",
   "metadata": {},
   "outputs": [
    {
     "name": "stdout",
     "output_type": "stream",
     "text": [
      "T A C G "
     ]
    },
    {
     "data": {
      "text/plain": [
       "'ATGC'"
      ]
     },
     "execution_count": 8,
     "metadata": {},
     "output_type": "execute_result"
    }
   ],
   "source": [
    "\n",
    "def trans(DNA):\n",
    "    for base in DNA:\n",
    "        if (base =='A'):\n",
    "            print (\"T\", end = \" \")\n",
    "        elif (base == \"T\"):\n",
    "            print (\"A\", end = \" \")\n",
    "        elif (base == \"C\"):\n",
    "            print (\"G\", end = \" \")\n",
    "        elif (base == \"G\"):\n",
    "            print (\"C\", end = \" \")\n",
    "    return (DNA)\n",
    "trans(DNA)"
   ]
  },
  {
   "cell_type": "code",
   "execution_count": 9,
   "id": "6a4697f8",
   "metadata": {},
   "outputs": [
    {
     "name": "stdout",
     "output_type": "stream",
     "text": [
      "ATGCATGC\n",
      "T A C G T A C G "
     ]
    },
    {
     "data": {
      "text/plain": [
       "'ATGCATGC'"
      ]
     },
     "execution_count": 9,
     "metadata": {},
     "output_type": "execute_result"
    }
   ],
   "source": [
    "DNA = input(\"\")\n",
    "trans(DNA)"
   ]
  },
  {
   "cell_type": "code",
   "execution_count": null,
   "id": "a047faba",
   "metadata": {},
   "outputs": [],
   "source": []
  }
 ],
 "metadata": {
  "kernelspec": {
   "display_name": "Python 3 (ipykernel)",
   "language": "python",
   "name": "python3"
  },
  "language_info": {
   "codemirror_mode": {
    "name": "ipython",
    "version": 3
   },
   "file_extension": ".py",
   "mimetype": "text/x-python",
   "name": "python",
   "nbconvert_exporter": "python",
   "pygments_lexer": "ipython3",
   "version": "3.9.13"
  }
 },
 "nbformat": 4,
 "nbformat_minor": 5
}
