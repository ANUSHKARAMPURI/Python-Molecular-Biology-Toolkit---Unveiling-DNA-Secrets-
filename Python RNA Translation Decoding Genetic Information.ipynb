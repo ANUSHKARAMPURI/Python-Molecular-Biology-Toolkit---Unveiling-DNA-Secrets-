{
 "cells": [
  {
   "cell_type": "markdown",
   "id": "43b109b0",
   "metadata": {},
   "source": [
    "This code snippets in the notebook explore dictionaries to compute the aminoacid residues chain from RNA sequence which is known as translation.\n",
    "\n",
    "\n",
    "Translation is a fundamental biological process that takes place in cells, where the genetic information encoded in RNA molecules is used to synthesize proteins. During translation, a ribosome reads the sequence of nucleotides in a messenger RNA (mRNA) molecule and converts it into a specific sequence of amino acids, the building blocks of proteins. This intricate process involves transfer RNA (tRNA) molecules carrying amino acids to the ribosome, where they are linked together in a precise order dictated by the mRNA sequence. The result is the creation of functional proteins that play crucial roles in various cellular processes.\n"
   ]
  },
  {
   "cell_type": "code",
   "execution_count": 5,
   "id": "6edc6200",
   "metadata": {},
   "outputs": [
    {
     "data": {
      "text/plain": [
       "dict_values([89.09, 174.2])"
      ]
     },
     "execution_count": 5,
     "metadata": {},
     "output_type": "execute_result"
    }
   ],
   "source": [
    "#Key and value in Dictionary\n",
    "\n",
    "D={\"Ala\":89.09,\"Arg\":174.2}        #Ala and Arg are keys in dictionary D and 89.09 and 174.2 are values associated with key\n",
    "\n",
    "\n",
    "D.keys()\n",
    "D.values()\n"
   ]
  },
  {
   "cell_type": "code",
   "execution_count": 6,
   "id": "729c5904",
   "metadata": {},
   "outputs": [
    {
     "data": {
      "text/plain": [
       "89.09"
      ]
     },
     "execution_count": 6,
     "metadata": {},
     "output_type": "execute_result"
    }
   ],
   "source": [
    "D[\"Ala\"]                 \n",
    "# Entries in dictionary are accessed by key (To access the value of key in a dictionary, one has to use square brackets)"
   ]
  },
  {
   "cell_type": "code",
   "execution_count": 7,
   "id": "4fdae209",
   "metadata": {},
   "outputs": [
    {
     "data": {
      "text/plain": [
       "89.09"
      ]
     },
     "execution_count": 7,
     "metadata": {},
     "output_type": "execute_result"
    }
   ],
   "source": [
    "D.get('Ala')"
   ]
  },
  {
   "cell_type": "code",
   "execution_count": 10,
   "id": "f612d88e",
   "metadata": {},
   "outputs": [
    {
     "data": {
      "text/plain": [
       "92.6"
      ]
     },
     "execution_count": 10,
     "metadata": {},
     "output_type": "execute_result"
    }
   ],
   "source": [
    "D={\"DNA.Tm\": 92.6}\n",
    "D.keys()\n",
    "D.values()\n",
    "\n",
    "D[\"DNA.Tm\"]"
   ]
  },
  {
   "cell_type": "code",
   "execution_count": 17,
   "id": "46861e0e",
   "metadata": {},
   "outputs": [
    {
     "data": {
      "text/plain": [
       "dict_items([('DNA.Tm', 92.6), ('Pro', 115.13), ('Leu', 131.17)])"
      ]
     },
     "execution_count": 17,
     "metadata": {},
     "output_type": "execute_result"
    }
   ],
   "source": [
    "#Add new items in Dictionary\n",
    "\n",
    "D[\"Pro\"]=115.13\n",
    "D.update({\"Leu\":131.17})\n",
    "\n",
    "#Check all items in the dictionary\n",
    "D.items()"
   ]
  },
  {
   "cell_type": "code",
   "execution_count": 18,
   "id": "a04bc622",
   "metadata": {},
   "outputs": [
    {
     "name": "stdout",
     "output_type": "stream",
     "text": [
      "DNA.Tm\n",
      "Pro\n",
      "Leu\n"
     ]
    }
   ],
   "source": [
    "#Iterating over dictionaries using 'for' loops\n",
    "\n",
    "#Iterate through keys\n",
    "for amino_acid in D:\n",
    "    print(amino_acid)"
   ]
  },
  {
   "cell_type": "code",
   "execution_count": 19,
   "id": "76642ba2",
   "metadata": {},
   "outputs": [
    {
     "name": "stdout",
     "output_type": "stream",
     "text": [
      "92.6\n",
      "115.13\n",
      "131.17\n"
     ]
    }
   ],
   "source": [
    "#Iterate through values\n",
    "for amino_acid in D.values():\n",
    "    print(amino_acid)"
   ]
  },
  {
   "cell_type": "code",
   "execution_count": 20,
   "id": "cacfc983",
   "metadata": {},
   "outputs": [
    {
     "name": "stdout",
     "output_type": "stream",
     "text": [
      "('DNA.Tm', 92.6)\n",
      "('Pro', 115.13)\n",
      "('Leu', 131.17)\n"
     ]
    }
   ],
   "source": [
    "#Iterate through items\n",
    "for amino_acid in D.items():\n",
    "    print(amino_acid)\n"
   ]
  },
  {
   "cell_type": "code",
   "execution_count": 21,
   "id": "70f5d6dc",
   "metadata": {},
   "outputs": [
    {
     "name": "stdout",
     "output_type": "stream",
     "text": [
      "DNA.Tm : 92.6\n",
      "Pro : 115.13\n",
      "Leu : 131.17\n"
     ]
    }
   ],
   "source": [
    "#Iterate through items\n",
    "for x,y in D.items():\n",
    "    print(x,':',y)"
   ]
  },
  {
   "cell_type": "code",
   "execution_count": 23,
   "id": "86fab362",
   "metadata": {},
   "outputs": [],
   "source": [
    "D={\"A\":{\"Ala\":89.09,\"Arg\":174.2}}       #Creating a dictionary into a dictionary"
   ]
  },
  {
   "cell_type": "code",
   "execution_count": 24,
   "id": "efa7d195",
   "metadata": {},
   "outputs": [
    {
     "data": {
      "text/plain": [
       "{'A': {'Ala': 89.09, 'Arg': 174.2}}"
      ]
     },
     "execution_count": 24,
     "metadata": {},
     "output_type": "execute_result"
    }
   ],
   "source": [
    "D"
   ]
  },
  {
   "cell_type": "code",
   "execution_count": 25,
   "id": "302a506d",
   "metadata": {},
   "outputs": [
    {
     "data": {
      "text/plain": [
       "dict_keys(['A'])"
      ]
     },
     "execution_count": 25,
     "metadata": {},
     "output_type": "execute_result"
    }
   ],
   "source": [
    "D.keys()"
   ]
  },
  {
   "cell_type": "code",
   "execution_count": 32,
   "id": "479ef27c",
   "metadata": {},
   "outputs": [],
   "source": [
    "A={\"GCU\": \"A\", \"GCC\": \"A\", \"GCA\": \"A\", \"GCG\": \"A\",                           #Codon_table shared \n",
    "    \"UGU\": \"C\", \"UGC\": \"C\",\n",
    "    \"GAU\": \"D\", \"GAC\": \"D\",\n",
    "    \"GAA\": \"E\", \"GAG\": \"E\",\n",
    "    \"UUU\": \"F\", \"UUC\": \"F\",\n",
    "    \"GGU\": \"G\", \"GGC\": \"G\", \"GGA\": \"G\", \"GGG\": \"G\",\n",
    "    \"CAU\": \"H\", \"CAC\": \"H\",\n",
    "    \"AUA\": \"I\", \"AUU\": \"I\", \"AUC\": \"I\",\n",
    "    \"AAA\": \"K\", \"AAG\": \"K\",\n",
    "    \"UUA\": \"L\", \"UUG\": \"L\", \"CUU\": \"L\", \"CUC\": \"L\", \"CUA\": \"L\", \"CUG\": \"L\",\n",
    "    \"AUG\": \"M\",\n",
    "    \"AAU\": \"N\", \"AAC\": \"N\",\n",
    "    \"CCU\": \"P\", \"CCC\": \"P\", \"CCA\": \"P\", \"CCG\": \"P\",\n",
    "    \"CAA\": \"Q\", \"CAG\": \"Q\",\n",
    "    \"CGU\": \"R\", \"CGC\": \"R\", \"CGA\": \"R\", \"CGG\": \"R\", \"AGA\": \"R\", \"AGG\": \"R\",\n",
    "    \"UCU\": \"S\", \"UCC\": \"S\", \"UCA\": \"S\", \"UCG\": \"S\", \"AGU\": \"S\", \"AGC\": \"S\",\n",
    "    \"ACU\": \"T\", \"ACC\": \"T\", \"ACA\": \"T\", \"ACG\": \"T\",\n",
    "    \"GUU\": \"V\", \"GUC\": \"V\", \"GUA\": \"V\", \"GUG\": \"V\",\n",
    "    \"UGG\": \"W\",\n",
    "    \"UAU\": \"Y\", \"UAC\": \"Y\",\n",
    "    \"UAA\": \"*\", \"UAG\": \"*\", \"UGA\": \"*\"}"
   ]
  },
  {
   "cell_type": "code",
   "execution_count": 33,
   "id": "7c8535ce",
   "metadata": {},
   "outputs": [
    {
     "data": {
      "text/plain": [
       "dict_keys(['GCU', 'GCC', 'GCA', 'GCG', 'UGU', 'UGC', 'GAU', 'GAC', 'GAA', 'GAG', 'UUU', 'UUC', 'GGU', 'GGC', 'GGA', 'GGG', 'CAU', 'CAC', 'AUA', 'AUU', 'AUC', 'AAA', 'AAG', 'UUA', 'UUG', 'CUU', 'CUC', 'CUA', 'CUG', 'AUG', 'AAU', 'AAC', 'CCU', 'CCC', 'CCA', 'CCG', 'CAA', 'CAG', 'CGU', 'CGC', 'CGA', 'CGG', 'AGA', 'AGG', 'UCU', 'UCC', 'UCA', 'UCG', 'AGU', 'AGC', 'ACU', 'ACC', 'ACA', 'ACG', 'GUU', 'GUC', 'GUA', 'GUG', 'UGG', 'UAU', 'UAC', 'UAA', 'UAG', 'UGA'])"
      ]
     },
     "execution_count": 33,
     "metadata": {},
     "output_type": "execute_result"
    }
   ],
   "source": [
    "A.keys()"
   ]
  },
  {
   "cell_type": "code",
   "execution_count": 28,
   "id": "2502bba9",
   "metadata": {},
   "outputs": [
    {
     "name": "stdout",
     "output_type": "stream",
     "text": [
      "GCU\n",
      "GCC\n",
      "GCA\n",
      "GCG\n",
      "UGU\n",
      "UGC\n",
      "GAU\n",
      "GAC\n",
      "GAA\n",
      "GAG\n",
      "UUU\n",
      "UUC\n",
      "GGU\n",
      "GGC\n",
      "GGA\n",
      "GGG\n",
      "CAU\n",
      "CAC\n",
      "AUA\n",
      "AUU\n",
      "AUC\n",
      "AAA\n",
      "AAG\n",
      "UUA\n",
      "UUG\n",
      "CUU\n",
      "CUC\n",
      "CUA\n",
      "CUG\n",
      "AUG\n",
      "AAU\n",
      "AAC\n",
      "CCU\n",
      "CCC\n",
      "CCA\n",
      "CCG\n",
      "CAA\n",
      "CAG\n",
      "CGU\n",
      "CGC\n",
      "CGA\n",
      "CGG\n",
      "AGA\n",
      "AGG\n",
      "UCU\n",
      "UCC\n",
      "UCA\n",
      "UCG\n",
      "AGU\n",
      "AGC\n",
      "ACU\n",
      "ACC\n",
      "ACA\n",
      "ACG\n",
      "GUU\n",
      "GUC\n",
      "GUA\n",
      "GUG\n",
      "UGG\n",
      "UAU\n",
      "UAC\n",
      "UAA\n",
      "UAG\n",
      "UGA\n"
     ]
    }
   ],
   "source": [
    "for codon in A:\n",
    "    print(codon)"
   ]
  },
  {
   "cell_type": "code",
   "execution_count": 30,
   "id": "667d36ad",
   "metadata": {},
   "outputs": [
    {
     "name": "stdout",
     "output_type": "stream",
     "text": [
      "A\n",
      "A\n",
      "A\n",
      "A\n",
      "C\n",
      "C\n",
      "D\n",
      "D\n",
      "E\n",
      "E\n",
      "F\n",
      "F\n",
      "G\n",
      "G\n",
      "G\n",
      "G\n",
      "H\n",
      "H\n",
      "I\n",
      "I\n",
      "I\n",
      "K\n",
      "K\n",
      "L\n",
      "L\n",
      "L\n",
      "L\n",
      "L\n",
      "L\n",
      "M\n",
      "N\n",
      "N\n",
      "P\n",
      "P\n",
      "P\n",
      "P\n",
      "Q\n",
      "Q\n",
      "R\n",
      "R\n",
      "R\n",
      "R\n",
      "R\n",
      "R\n",
      "S\n",
      "S\n",
      "S\n",
      "S\n",
      "S\n",
      "S\n",
      "T\n",
      "T\n",
      "T\n",
      "T\n",
      "V\n",
      "V\n",
      "V\n",
      "V\n",
      "W\n",
      "Y\n",
      "Y\n",
      "*\n",
      "*\n",
      "*\n"
     ]
    }
   ],
   "source": [
    "for codon in A.values():\n",
    "    print(codon)"
   ]
  },
  {
   "cell_type": "code",
   "execution_count": 31,
   "id": "1452fb9b",
   "metadata": {},
   "outputs": [
    {
     "name": "stdout",
     "output_type": "stream",
     "text": [
      "('GCU', 'A')\n",
      "('GCC', 'A')\n",
      "('GCA', 'A')\n",
      "('GCG', 'A')\n",
      "('UGU', 'C')\n",
      "('UGC', 'C')\n",
      "('GAU', 'D')\n",
      "('GAC', 'D')\n",
      "('GAA', 'E')\n",
      "('GAG', 'E')\n",
      "('UUU', 'F')\n",
      "('UUC', 'F')\n",
      "('GGU', 'G')\n",
      "('GGC', 'G')\n",
      "('GGA', 'G')\n",
      "('GGG', 'G')\n",
      "('CAU', 'H')\n",
      "('CAC', 'H')\n",
      "('AUA', 'I')\n",
      "('AUU', 'I')\n",
      "('AUC', 'I')\n",
      "('AAA', 'K')\n",
      "('AAG', 'K')\n",
      "('UUA', 'L')\n",
      "('UUG', 'L')\n",
      "('CUU', 'L')\n",
      "('CUC', 'L')\n",
      "('CUA', 'L')\n",
      "('CUG', 'L')\n",
      "('AUG', 'M')\n",
      "('AAU', 'N')\n",
      "('AAC', 'N')\n",
      "('CCU', 'P')\n",
      "('CCC', 'P')\n",
      "('CCA', 'P')\n",
      "('CCG', 'P')\n",
      "('CAA', 'Q')\n",
      "('CAG', 'Q')\n",
      "('CGU', 'R')\n",
      "('CGC', 'R')\n",
      "('CGA', 'R')\n",
      "('CGG', 'R')\n",
      "('AGA', 'R')\n",
      "('AGG', 'R')\n",
      "('UCU', 'S')\n",
      "('UCC', 'S')\n",
      "('UCA', 'S')\n",
      "('UCG', 'S')\n",
      "('AGU', 'S')\n",
      "('AGC', 'S')\n",
      "('ACU', 'T')\n",
      "('ACC', 'T')\n",
      "('ACA', 'T')\n",
      "('ACG', 'T')\n",
      "('GUU', 'V')\n",
      "('GUC', 'V')\n",
      "('GUA', 'V')\n",
      "('GUG', 'V')\n",
      "('UGG', 'W')\n",
      "('UAU', 'Y')\n",
      "('UAC', 'Y')\n",
      "('UAA', '*')\n",
      "('UAG', '*')\n",
      "('UGA', '*')\n"
     ]
    }
   ],
   "source": [
    "for codon in A.items():\n",
    "    print(codon)"
   ]
  },
  {
   "cell_type": "code",
   "execution_count": 44,
   "id": "18ddc749",
   "metadata": {},
   "outputs": [
    {
     "name": "stdout",
     "output_type": "stream",
     "text": [
      "\n",
      "The protein sequence is: \n",
      "\n",
      "YRDA\n"
     ]
    }
   ],
   "source": [
    "rna='UACCGCGAUGCG'\n",
    "\n",
    "protein=\"\"\n",
    "for i in range(0, len(rna),3):\n",
    "    codon=rna[i:i+3]\n",
    "    protein += A[codon]\n",
    "print(f\"\\nThe protein sequence is: \\n\\n{protein}\")      #f\"\\n referse to the dictorionary given previously"
   ]
  },
  {
   "cell_type": "code",
   "execution_count": 40,
   "id": "4ede1612",
   "metadata": {},
   "outputs": [
    {
     "name": "stdout",
     "output_type": "stream",
     "text": [
      "Enter RNA sequenceAAUUGGCCGAUUACGUUA\n",
      "\n",
      " The protein sequence is: \n",
      "\n",
      "NWPITL\n"
     ]
    }
   ],
   "source": [
    "rna=input('Enter RNA sequence')\n",
    "protein=\"\"\n",
    "for i in range(0, len(rna),3):\n",
    "    codon=rna[i:i+3]\n",
    "    protein += A[codon]\n",
    "print(f\"\\n The protein sequence is: \\n\\n{protein}\")"
   ]
  },
  {
   "cell_type": "code",
   "execution_count": 52,
   "id": "93b20ea6",
   "metadata": {},
   "outputs": [
    {
     "data": {
      "text/plain": [
       "'ATGC'"
      ]
     },
     "execution_count": 52,
     "metadata": {},
     "output_type": "execute_result"
    }
   ],
   "source": [
    "#String concatenation\n",
    "\n",
    "sequence= ['A','T','G','C']\n",
    "''.join(sequence)"
   ]
  },
  {
   "cell_type": "code",
   "execution_count": 55,
   "id": "af0e684f",
   "metadata": {},
   "outputs": [
    {
     "data": {
      "text/plain": [
       "'ATGC'"
      ]
     },
     "execution_count": 55,
     "metadata": {},
     "output_type": "execute_result"
    }
   ],
   "source": [
    "sequence= ['A','T','G','C']\n",
    "sequence[0]+sequence[1]+sequence[2]+sequence[3]                #String concatenation can also be done using \"+\" operator"
   ]
  },
  {
   "cell_type": "code",
   "execution_count": null,
   "id": "4e9cd1a5",
   "metadata": {},
   "outputs": [],
   "source": []
  },
  {
   "cell_type": "code",
   "execution_count": null,
   "id": "53f116d0",
   "metadata": {},
   "outputs": [],
   "source": []
  },
  {
   "cell_type": "code",
   "execution_count": null,
   "id": "6e612c49",
   "metadata": {},
   "outputs": [],
   "source": []
  },
  {
   "cell_type": "code",
   "execution_count": null,
   "id": "2f8f0ba8",
   "metadata": {},
   "outputs": [],
   "source": []
  }
 ],
 "metadata": {
  "kernelspec": {
   "display_name": "Python 3 (ipykernel)",
   "language": "python",
   "name": "python3"
  },
  "language_info": {
   "codemirror_mode": {
    "name": "ipython",
    "version": 3
   },
   "file_extension": ".py",
   "mimetype": "text/x-python",
   "name": "python",
   "nbconvert_exporter": "python",
   "pygments_lexer": "ipython3",
   "version": "3.9.13"
  }
 },
 "nbformat": 4,
 "nbformat_minor": 5
}
