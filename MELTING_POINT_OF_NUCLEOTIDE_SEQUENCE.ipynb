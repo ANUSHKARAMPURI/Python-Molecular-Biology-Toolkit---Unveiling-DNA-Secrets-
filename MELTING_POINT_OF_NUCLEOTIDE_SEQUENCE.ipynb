{
 "cells": [
  {
   "cell_type": "markdown",
   "id": "721e2256",
   "metadata": {},
   "source": [
    "This notebook consists of tools which idnetify start and stop codons and also return weather those input DNA sequences were feasible for primer designing or not. also few snippets to handle array of genes were also included such as addition, deletion, replacement etc."
   ]
  },
  {
   "cell_type": "code",
   "execution_count": 2,
   "id": "22ab70b9",
   "metadata": {},
   "outputs": [
    {
     "name": "stdout",
     "output_type": "stream",
     "text": [
      "ENTER THE DNA SEQUENCE: ATGCTAG\n",
      "good sequence\n",
      "WARNING! it has stop codon\n",
      "the tm value is :  20\n",
      "IT HAS GC CONTENT : 42.857142857142854\n"
     ]
    }
   ],
   "source": [
    "DNA = input (\"ENTER THE DNA SEQUENCE: \")\n",
    "G = DNA.count(\"G\")\n",
    "C = DNA.count(\"C\")\n",
    "A = DNA.count(\"A\")\n",
    "T = DNA.count(\"T\")\n",
    "COUNT = A+C+G+T\n",
    "GC_TOTAL = G+C\n",
    "COUNT = G+C+T+A\n",
    "GC_CONTENT = (GC_TOTAL/COUNT)*100\n",
    "TM_value = (A+T)*2+(G+C)*4\n",
    "length = len(DNA)\n",
    "if (length/COUNT == 1) and  DNA.endswith('TAG'):\n",
    "    print (\"good sequence\")\n",
    "    print (\"WARNING! it has stop codon\")\n",
    "    if DNA.endswith('TAG'):\n",
    "        print (\"the tm value is : \", TM_value)\n",
    "        print (\"IT HAS GC CONTENT :\", GC_CONTENT)\n",
    "else:\n",
    "    print (\"no stop codon\")\n",
    "    \n"
   ]
  },
  {
   "cell_type": "code",
   "execution_count": null,
   "id": "21e0d91a",
   "metadata": {},
   "outputs": [],
   "source": [
    "DNA = input (\"ENTER THE DNA SEQUENCE: \")\n",
    "G = DNA.count(\"G\")\n",
    "C = DNA.count(\"C\")\n",
    "A = DNA.count(\"A\")\n",
    "T = DNA.count(\"T\")\n",
    "GC_TOTAL = G+C\n",
    "COUNT = G+C+T+A\n",
    "GC_CONTENT = (GC_TOTAL/COUNT)*100\n",
    "TM_value = (A+T)*2+(G+C)*4\n",
    "COUNT = A+C+G+T\n",
    "length = len(DNA)\n",
    "if (length/COUNT == 1):\n",
    "    print (\"it is correct\")\n",
    "    if DNA.endswith('TAG'):\n",
    "         print (\"Warning! stop codon is present\")\n",
    "    elif  len(DNA)<17:\n",
    "         print (\"DNA LENGTH IS TOO SMALL FOR PRIMER DESIGN\")\n",
    "    else :\n",
    "        print (\"the tm value is : \", TM_value)\n",
    "        print (\"IT HAS GC CONTENT :\", GC_CONTENT)\n",
    "else :\n",
    "    print (\"sequence is not correct\")"
   ]
  },
  {
   "cell_type": "code",
   "execution_count": 6,
   "id": "deb8ffef",
   "metadata": {},
   "outputs": [],
   "source": [
    "#ARRAYS special variable, which can take more value\n",
    "\n",
    "data = [2.2,3,4.56,25,22]\n"
   ]
  },
  {
   "cell_type": "code",
   "execution_count": 7,
   "id": "4295a2a8",
   "metadata": {},
   "outputs": [
    {
     "data": {
      "text/plain": [
       "[2.2, 3, 4.56, 25, 22]"
      ]
     },
     "execution_count": 7,
     "metadata": {},
     "output_type": "execute_result"
    }
   ],
   "source": [
    "data"
   ]
  },
  {
   "cell_type": "code",
   "execution_count": 8,
   "id": "5207a170",
   "metadata": {},
   "outputs": [],
   "source": [
    "N = len(data)"
   ]
  },
  {
   "cell_type": "code",
   "execution_count": 9,
   "id": "db1eaae0",
   "metadata": {},
   "outputs": [
    {
     "data": {
      "text/plain": [
       "5"
      ]
     },
     "execution_count": 9,
     "metadata": {},
     "output_type": "execute_result"
    }
   ],
   "source": [
    "N"
   ]
  },
  {
   "cell_type": "code",
   "execution_count": 12,
   "id": "3e720dc9",
   "metadata": {},
   "outputs": [
    {
     "data": {
      "text/plain": [
       "25"
      ]
     },
     "execution_count": 12,
     "metadata": {},
     "output_type": "execute_result"
    }
   ],
   "source": [
    "data[3]"
   ]
  },
  {
   "cell_type": "code",
   "execution_count": 14,
   "id": "66bc5d43",
   "metadata": {},
   "outputs": [
    {
     "name": "stdout",
     "output_type": "stream",
     "text": [
      "4.56 25\n"
     ]
    }
   ],
   "source": [
    "print(data[2], data[3])"
   ]
  },
  {
   "cell_type": "code",
   "execution_count": 26,
   "id": "ad422207",
   "metadata": {},
   "outputs": [
    {
     "data": {
      "text/plain": [
       "[2.2, 33, 35, 45, 25]"
      ]
     },
     "execution_count": 26,
     "metadata": {},
     "output_type": "execute_result"
    }
   ],
   "source": [
    "data = [2.2,33,35,45,25]\n",
    "data\n"
   ]
  },
  {
   "cell_type": "code",
   "execution_count": 27,
   "id": "9d7f2487",
   "metadata": {},
   "outputs": [],
   "source": [
    "data.append(2)"
   ]
  },
  {
   "cell_type": "code",
   "execution_count": 28,
   "id": "41103dab",
   "metadata": {},
   "outputs": [
    {
     "data": {
      "text/plain": [
       "[2.2, 33, 35, 45, 25, 2]"
      ]
     },
     "execution_count": 28,
     "metadata": {},
     "output_type": "execute_result"
    }
   ],
   "source": [
    "data"
   ]
  },
  {
   "cell_type": "code",
   "execution_count": 29,
   "id": "f5997838",
   "metadata": {},
   "outputs": [],
   "source": [
    "data.remove(33)"
   ]
  },
  {
   "cell_type": "code",
   "execution_count": 30,
   "id": "59ade1a3",
   "metadata": {},
   "outputs": [
    {
     "data": {
      "text/plain": [
       "[2.2, 35, 45, 25, 2]"
      ]
     },
     "execution_count": 30,
     "metadata": {},
     "output_type": "execute_result"
    }
   ],
   "source": [
    "data"
   ]
  },
  {
   "cell_type": "code",
   "execution_count": 31,
   "id": "867f7f7b",
   "metadata": {},
   "outputs": [
    {
     "data": {
      "text/plain": [
       "25"
      ]
     },
     "execution_count": 31,
     "metadata": {},
     "output_type": "execute_result"
    }
   ],
   "source": [
    "data.pop(3)"
   ]
  },
  {
   "cell_type": "code",
   "execution_count": 32,
   "id": "45ad2ce1",
   "metadata": {},
   "outputs": [
    {
     "data": {
      "text/plain": [
       "[2.2, 35, 45, 2]"
      ]
     },
     "execution_count": 32,
     "metadata": {},
     "output_type": "execute_result"
    }
   ],
   "source": [
    "# index.(x) we can identify the index of x present in the array\n",
    "data"
   ]
  },
  {
   "cell_type": "code",
   "execution_count": 35,
   "id": "b5c513f5",
   "metadata": {},
   "outputs": [
    {
     "data": {
      "text/plain": [
       "0"
      ]
     },
     "execution_count": 35,
     "metadata": {},
     "output_type": "execute_result"
    }
   ],
   "source": [
    "data.index(2.2)"
   ]
  },
  {
   "cell_type": "code",
   "execution_count": 36,
   "id": "b71a917a",
   "metadata": {},
   "outputs": [
    {
     "data": {
      "text/plain": [
       "['BRCA2', 'BRCA1', 'p53', 'PERK']"
      ]
     },
     "execution_count": 36,
     "metadata": {},
     "output_type": "execute_result"
    }
   ],
   "source": [
    "gene = ['BRCA2','BRCA1','p53','PERK']\n",
    "gene"
   ]
  },
  {
   "cell_type": "code",
   "execution_count": 41,
   "id": "23fbce6c",
   "metadata": {},
   "outputs": [],
   "source": [
    "gene.append('MAPK')"
   ]
  },
  {
   "cell_type": "code",
   "execution_count": 44,
   "id": "9d41830f",
   "metadata": {},
   "outputs": [
    {
     "data": {
      "text/plain": [
       "['BRCA2', 'BRCA1', 'p53', 'PERK', 'MAPK', 'MAPK']"
      ]
     },
     "execution_count": 44,
     "metadata": {},
     "output_type": "execute_result"
    }
   ],
   "source": [
    "gene\n"
   ]
  },
  {
   "cell_type": "code",
   "execution_count": 46,
   "id": "1c69c339",
   "metadata": {},
   "outputs": [
    {
     "name": "stdout",
     "output_type": "stream",
     "text": [
      "['BRCA2', 'BRCA1', 'p53', 'PERK', 'MAPK', 'MAPK']\n"
     ]
    }
   ],
   "source": [
    "print (gene)"
   ]
  },
  {
   "cell_type": "code",
   "execution_count": 52,
   "id": "7150c2c5",
   "metadata": {},
   "outputs": [
    {
     "name": "stdout",
     "output_type": "stream",
     "text": [
      "['BRCA2', 'BRCA1', 'p53', 'MAPK', 'MAPK', 'PERK', 'PERK', 'PERK']\n"
     ]
    }
   ],
   "source": [
    "gene.append('PERK')\n",
    "print (gene)"
   ]
  },
  {
   "cell_type": "code",
   "execution_count": 53,
   "id": "13a6737c",
   "metadata": {},
   "outputs": [
    {
     "data": {
      "text/plain": [
       "'PERK'"
      ]
     },
     "execution_count": 53,
     "metadata": {},
     "output_type": "execute_result"
    }
   ],
   "source": [
    "gene.pop(7)"
   ]
  },
  {
   "cell_type": "code",
   "execution_count": 54,
   "id": "b16caf33",
   "metadata": {},
   "outputs": [
    {
     "data": {
      "text/plain": [
       "'PERK'"
      ]
     },
     "execution_count": 54,
     "metadata": {},
     "output_type": "execute_result"
    }
   ],
   "source": [
    "gene.pop(6)"
   ]
  },
  {
   "cell_type": "code",
   "execution_count": 55,
   "id": "29674f78",
   "metadata": {},
   "outputs": [
    {
     "data": {
      "text/plain": [
       "['BRCA2', 'BRCA1', 'p53', 'MAPK', 'MAPK', 'PERK']"
      ]
     },
     "execution_count": 55,
     "metadata": {},
     "output_type": "execute_result"
    }
   ],
   "source": [
    "gene"
   ]
  }
 ],
 "metadata": {
  "kernelspec": {
   "display_name": "Python 3 (ipykernel)",
   "language": "python",
   "name": "python3"
  },
  "language_info": {
   "codemirror_mode": {
    "name": "ipython",
    "version": 3
   },
   "file_extension": ".py",
   "mimetype": "text/x-python",
   "name": "python",
   "nbconvert_exporter": "python",
   "pygments_lexer": "ipython3",
   "version": "3.9.13"
  }
 },
 "nbformat": 4,
 "nbformat_minor": 5
}
