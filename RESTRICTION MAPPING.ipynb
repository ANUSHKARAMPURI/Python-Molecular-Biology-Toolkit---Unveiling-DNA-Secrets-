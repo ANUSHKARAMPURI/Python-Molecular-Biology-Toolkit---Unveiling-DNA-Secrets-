{
 "cells": [
  {
   "cell_type": "markdown",
   "id": "58274e46",
   "metadata": {},
   "source": [
    "This notebook explores the for loops and if/else statements to identify restriction sites in the genome:\n",
    "\n",
    "Restriction sites are specific DNA sequences recognized by restriction enzymes. These enzymes act like molecular scissors, cutting the DNA at or near the recognition site. This process is fundamental in molecular biology, enabling the manipulation of DNA for various applications such as cloning and genetic engineering"
   ]
  },
  {
   "cell_type": "code",
   "execution_count": 19,
   "id": "6eebe217",
   "metadata": {},
   "outputs": [
    {
     "name": "stdout",
     "output_type": "stream",
     "text": [
      "ENTER THE DNA SEQUENCE: ACGGCCGTATCGATGAGGCCTGTGTACAA\n",
      "The length of input DNA is:  29\n",
      "AaaI restriction site starts at index 1 CGGCCG\n",
      "AagI restriction site starts at index 8 ATCGAT\n",
      "AatI restriction site starts at index 15 AGGCCT\n",
      "AauI restriction site starts at index 22 TGTACA\n"
     ]
    }
   ],
   "source": [
    "DNA = input(\"ENTER THE DNA SEQUENCE: \")\n",
    "AaaI_SEQ =  \"CGGCCG\"\n",
    "AagI_SEQ = \"ATCGAT\"\n",
    "AatI_SEQ = \"AGGCCT\"\n",
    "AauI_SEQ = \"TGTACA\"\n",
    "DNA_LENGTH = len(DNA)\n",
    "print (\"The length of input DNA is: \", DNA_LENGTH)\n",
    "for base in range(len(DNA)):\n",
    "    if DNA[base:base+6] == AaaI_SEQ:\n",
    "        print(\"AaaI restriction site starts at index\", base, AaaI_SEQ)\n",
    "    if DNA[base:base+6] == AagI_SEQ:\n",
    "        print(\"AagI restriction site starts at index\", base, AagI_SEQ)\n",
    "    if DNA[base:base+6] == AatI_SEQ:\n",
    "        print(\"AatI restriction site starts at index\", base, AatI_SEQ)\n",
    "    if DNA[base:base+6] == AauI_SEQ:\n",
    "        print(\"AauI restriction site starts at index\", base, AauI_SEQ)\n",
    "    else:\n",
    "        continue\n",
    "        print(\" no restricion site present\")"
   ]
  },
  {
   "cell_type": "markdown",
   "id": "9f2a44ff",
   "metadata": {},
   "source": [
    "The below code snippets were to explore little bit about developing functions for molecular biology tools which can calculate length, GC content, Tm value etc."
   ]
  },
  {
   "cell_type": "code",
   "execution_count": 24,
   "id": "13be5fe4",
   "metadata": {},
   "outputs": [],
   "source": [
    "def todaysLab():\n",
    "    print (\" COMPUTATIONAL BIOLOGY \")"
   ]
  },
  {
   "cell_type": "code",
   "execution_count": 25,
   "id": "8fdb9e1c",
   "metadata": {},
   "outputs": [
    {
     "name": "stdout",
     "output_type": "stream",
     "text": [
      " COMPUTATIONAL BIOLOGY \n"
     ]
    }
   ],
   "source": [
    "todaysLab()"
   ]
  },
  {
   "cell_type": "code",
   "execution_count": 26,
   "id": "5ded1955",
   "metadata": {},
   "outputs": [],
   "source": [
    "def add (n1,n2):\n",
    "    sum = n1+n2\n",
    "    print (\"result\" , sum)"
   ]
  },
  {
   "cell_type": "code",
   "execution_count": 27,
   "id": "e6efaec9",
   "metadata": {},
   "outputs": [
    {
     "name": "stdout",
     "output_type": "stream",
     "text": [
      "result 8.16569\n"
     ]
    }
   ],
   "source": [
    "add(5.8,2.36569)"
   ]
  },
  {
   "cell_type": "code",
   "execution_count": 28,
   "id": "2f382fc2",
   "metadata": {},
   "outputs": [],
   "source": [
    "def add (n1,n2):\n",
    "    sum = n1+n2\n",
    "    return sum"
   ]
  },
  {
   "cell_type": "code",
   "execution_count": 29,
   "id": "93694ef3",
   "metadata": {},
   "outputs": [
    {
     "data": {
      "text/plain": [
       "232618131396"
      ]
     },
     "execution_count": 29,
     "metadata": {},
     "output_type": "execute_result"
    }
   ],
   "source": [
    "add (52232651, 232565898745)"
   ]
  },
  {
   "cell_type": "code",
   "execution_count": 30,
   "id": "fcfa2346",
   "metadata": {},
   "outputs": [
    {
     "data": {
      "text/plain": [
       "5"
      ]
     },
     "execution_count": 30,
     "metadata": {},
     "output_type": "execute_result"
    }
   ],
   "source": [
    "add( 2,3)"
   ]
  },
  {
   "cell_type": "code",
   "execution_count": 32,
   "id": "524bb380",
   "metadata": {},
   "outputs": [],
   "source": [
    "def substract(n1,n2):\n",
    "    difference = n1-n2\n",
    "    return difference"
   ]
  },
  {
   "cell_type": "code",
   "execution_count": 33,
   "id": "3d0c2e85",
   "metadata": {},
   "outputs": [
    {
     "data": {
      "text/plain": [
       "7"
      ]
     },
     "execution_count": 33,
     "metadata": {},
     "output_type": "execute_result"
    }
   ],
   "source": [
    "substract(25,18)"
   ]
  },
  {
   "cell_type": "code",
   "execution_count": 34,
   "id": "43b76e7f",
   "metadata": {},
   "outputs": [],
   "source": [
    "def multiply(n1,n2):\n",
    "    product = n1*n2\n",
    "    return product"
   ]
  },
  {
   "cell_type": "code",
   "execution_count": 35,
   "id": "82e9c7b3",
   "metadata": {},
   "outputs": [
    {
     "data": {
      "text/plain": [
       "550"
      ]
     },
     "execution_count": 35,
     "metadata": {},
     "output_type": "execute_result"
    }
   ],
   "source": [
    "multiply( 25, 22)"
   ]
  },
  {
   "cell_type": "code",
   "execution_count": 37,
   "id": "527d6368",
   "metadata": {},
   "outputs": [],
   "source": [
    "def average (x,y):\n",
    "    return (x+y)/2"
   ]
  },
  {
   "cell_type": "code",
   "execution_count": 38,
   "id": "5d37bb51",
   "metadata": {},
   "outputs": [
    {
     "data": {
      "text/plain": [
       "339.5"
      ]
     },
     "execution_count": 38,
     "metadata": {},
     "output_type": "execute_result"
    }
   ],
   "source": [
    "average (223, 456)"
   ]
  },
  {
   "cell_type": "code",
   "execution_count": 42,
   "id": "8d1d9e08",
   "metadata": {},
   "outputs": [],
   "source": [
    "# global and local parameters\n",
    "def average(x,y):\n",
    "    mean = (x+y)/2\n",
    "    print(\" average of the given number is: \", mean)\n",
    "    return mean"
   ]
  },
  {
   "cell_type": "code",
   "execution_count": 43,
   "id": "e28d4da8",
   "metadata": {},
   "outputs": [
    {
     "name": "stdout",
     "output_type": "stream",
     "text": [
      " average of the given number is:  5.0\n"
     ]
    },
    {
     "data": {
      "text/plain": [
       "5.0"
      ]
     },
     "execution_count": 43,
     "metadata": {},
     "output_type": "execute_result"
    }
   ],
   "source": [
    "average (5,5)"
   ]
  },
  {
   "cell_type": "code",
   "execution_count": 47,
   "id": "ec9bef1e",
   "metadata": {},
   "outputs": [
    {
     "name": "stdout",
     "output_type": "stream",
     "text": [
      "square of all numbers is :  1\n",
      "square of all numbers is :  4\n",
      "square of all numbers is :  9\n",
      "square of all numbers is :  16\n",
      "square of all numbers is :  25\n",
      "square of all numbers is :  36\n",
      "square of all numbers is :  49\n",
      "square of all numbers is :  64\n",
      "square of all numbers is :  81\n",
      "square of all numbers is :  100\n"
     ]
    }
   ],
   "source": [
    "def square (n):\n",
    "    square = n*n\n",
    "    return square\n",
    "for i in range (1, 11):\n",
    "    result = square(i)\n",
    "    print (\"square of all numbers is : \", result)"
   ]
  },
  {
   "cell_type": "code",
   "execution_count": 50,
   "id": "3aa51db7",
   "metadata": {},
   "outputs": [
    {
     "data": {
      "text/plain": [
       "10000"
      ]
     },
     "execution_count": 50,
     "metadata": {},
     "output_type": "execute_result"
    }
   ],
   "source": [
    "square(100)"
   ]
  },
  {
   "cell_type": "code",
   "execution_count": 67,
   "id": "290e3311",
   "metadata": {},
   "outputs": [
    {
     "name": "stdout",
     "output_type": "stream",
     "text": [
      "ENTER THE DNA SEQUENCE: ATGCGTAGTAG\n",
      "lenght of DNA is :  11\n"
     ]
    }
   ],
   "source": [
    "DNA = input(\"ENTER THE DNA SEQUENCE: \")\n",
    "def length(DNA):\n",
    "    len_DNA = len(DNA)\n",
    "    print (\"lenght of DNA is : \", len_DNA)\n",
    "    return;\n",
    "length(DNA)"
   ]
  },
  {
   "cell_type": "code",
   "execution_count": 68,
   "id": "edba383d",
   "metadata": {},
   "outputs": [
    {
     "name": "stdout",
     "output_type": "stream",
     "text": [
      "ENTER THE DNA SEQUENCE: AGTGCGTAGCGAACGTGA\n",
      "GC CONTENT OF DNA SEQUENCE IS:  55.55555555555556\n"
     ]
    }
   ],
   "source": [
    "DNA = input(\"ENTER THE DNA SEQUENCE: \")\n",
    "def GC(DNA):\n",
    "    G = DNA.count(\"G\")\n",
    "    C = DNA.count(\"C\")\n",
    "    A = DNA.count(\"A\")\n",
    "    T = DNA.count(\"T\")\n",
    "    COUNT = A+C+G+T\n",
    "    GC_TOTAL = G+C\n",
    "    COUNT = G+C+T+A\n",
    "    GC_CONTENT = (GC_TOTAL/COUNT)*100\n",
    "    print (\"GC CONTENT OF DNA SEQUENCE IS: \", GC_CONTENT)\n",
    "    return;\n",
    "GC(DNA)"
   ]
  },
  {
   "cell_type": "code",
   "execution_count": 2,
   "id": "34991e0f",
   "metadata": {},
   "outputs": [],
   "source": [
    "def GC(DNA):\n",
    "    counter = 0\n",
    "    DNA_LENGTH = len(DNA)\n",
    "    for base in DNA:\n",
    "        if base == 'G' or base == 'C':\n",
    "            counter = counter+1\n",
    "    print (\"%GC\", (counter/DNA_LENGTH)*100)\n",
    "    return (counter/DNA_LENGTH)*100"
   ]
  },
  {
   "cell_type": "code",
   "execution_count": 5,
   "id": "e3c6144b",
   "metadata": {},
   "outputs": [
    {
     "name": "stdout",
     "output_type": "stream",
     "text": [
      "ENTER THE DNA SEQ ATGCGGGTGCAGTTAGTTAGCGTAGAG\n",
      "%GC 51.85185185185185\n"
     ]
    },
    {
     "data": {
      "text/plain": [
       "51.85185185185185"
      ]
     },
     "execution_count": 5,
     "metadata": {},
     "output_type": "execute_result"
    }
   ],
   "source": [
    "DNA = input (\"ENTER THE DNA SEQ \")\n",
    "GC(DNA)"
   ]
  },
  {
   "cell_type": "code",
   "execution_count": null,
   "id": "bf0cf247",
   "metadata": {},
   "outputs": [],
   "source": []
  }
 ],
 "metadata": {
  "kernelspec": {
   "display_name": "Python 3 (ipykernel)",
   "language": "python",
   "name": "python3"
  },
  "language_info": {
   "codemirror_mode": {
    "name": "ipython",
    "version": 3
   },
   "file_extension": ".py",
   "mimetype": "text/x-python",
   "name": "python",
   "nbconvert_exporter": "python",
   "pygments_lexer": "ipython3",
   "version": "3.9.13"
  }
 },
 "nbformat": 4,
 "nbformat_minor": 5
}
