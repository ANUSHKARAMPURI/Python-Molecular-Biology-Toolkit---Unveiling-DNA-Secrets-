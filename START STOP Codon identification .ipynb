{
 "cells": [
  {
   "cell_type": "markdown",
   "id": "b14b7af4",
   "metadata": {},
   "source": [
    "THIS NOTEBOOK GIVES AN OVERVIEW ON ONE OF THE BASIC MOLECULAR BIOLOGY TOOL TO FIND THE START AND STOP CODONS IN THE GENOME SEQUENCE.\n",
    "\n",
    "Start codons are specific sequences in mRNA that mark the beginning of protein synthesis during translation. In most cases, the start codon is AUG, which codes for the amino acid methionine. It serves as the assembly point for the ribosome and tRNA, initiating the translation process.\n",
    "\n",
    "Stop codons, on the other hand, are sequences within the mRNA that signal the termination of protein synthesis. There are three main stop codons: UAA, UAG, and UGA. When the ribosome encounters one of these codons, it releases the newly synthesized protein, and translation comes to a halt. Stop codons are also known as termination codons or nonsense codons because they do not code for any amino acids."
   ]
  },
  {
   "cell_type": "code",
   "execution_count": 29,
   "id": "0bd2434a",
   "metadata": {},
   "outputs": [
    {
     "name": "stdout",
     "output_type": "stream",
     "text": [
      " enter the DNA sequenceATCGTGCGTAGCGTAGCG\n",
      "sequence dosent contain start codon\n"
     ]
    }
   ],
   "source": [
    "# startswith command\n",
    "DNA2 = input (\" enter the DNA sequence\")\n",
    "if DNA2.startswith('AUG'):\n",
    "    print(\"sequence contains start codon\")\n",
    "else:\n",
    "    print(\"sequence dosent contain start codon\")"
   ]
  },
  {
   "cell_type": "code",
   "execution_count": 8,
   "id": "38e0ec43",
   "metadata": {},
   "outputs": [
    {
     "name": "stdout",
     "output_type": "stream",
     "text": [
      "enter the DNA sequence: ACTGCTGCTGACGTAGAAAA\n",
      "no stop codon\n"
     ]
    }
   ],
   "source": [
    "# FINDING STOP CODONS USING ELSEIF STATEMENTS\n",
    "DNA3 = input(\"enter the DNA sequence: \")\n",
    "if DNA3.endswith('TAG'):\n",
    "   print(\" TAG stop codon present\")\n",
    "if DNA3.endswith('TGA'):\n",
    "  print(\" TGA stop codon present\")\n",
    "if DNA3.endswith('TAA'):\n",
    "  print(\" TAA stop codon is present\")\n",
    "else :\n",
    "    print(\"no stop codon\")\n",
    "    "
   ]
  },
  {
   "cell_type": "code",
   "execution_count": 9,
   "id": "2595f155",
   "metadata": {},
   "outputs": [
    {
     "name": "stdout",
     "output_type": "stream",
     "text": [
      "ENTER DNA SEQUENCEACTGCGTACGTGCAGGG\n",
      "it has stop codon\n"
     ]
    },
    {
     "data": {
      "text/plain": [
       "str"
      ]
     },
     "execution_count": 9,
     "metadata": {},
     "output_type": "execute_result"
    }
   ],
   "source": [
    "DNA4 = input(\"ENTER DNA SEQUENCE\")\n",
    "if DNA4.endswith('TAG') or ('TGA') or ('TAA'):\n",
    "   print (\"it has stop codon\")\n",
    "else : \n",
    "   print (\"no stop codon\")\n",
    "type(DNA4)\n"
   ]
  },
  {
   "cell_type": "code",
   "execution_count": 17,
   "id": "5fa8a6a8",
   "metadata": {},
   "outputs": [
    {
     "name": "stdout",
     "output_type": "stream",
     "text": [
      "ENTER DNA SEQUENCEATGCTGCGTAGGCGT\n",
      "it dosent have any start or stop codon\n"
     ]
    }
   ],
   "source": [
    "DNA5 =input(\"ENTER DNA SEQUENCE\")\n",
    "if DNA5.startswith('AUG') and DNA5.endswith('TAG'):\n",
    "    print (\" DNA sequence has both start and stop codons\")\n",
    "if DNA5.endswith('TAG'):\n",
    "    print (\"it haS  stop codon ONLY \")\n",
    "if DNA5.startswith('AUG'):\n",
    "    print (\"it has start codon only\")\n",
    "else :\n",
    "    print (\"it dosent have any start or stop codon\")\n",
    "    \n",
    "    \n",
    "    "
   ]
  },
  {
   "cell_type": "code",
   "execution_count": 12,
   "id": "9ef5c394",
   "metadata": {},
   "outputs": [
    {
     "name": "stdout",
     "output_type": "stream",
     "text": [
      "ENTER DNA1 SEQUENCE: ATCGTGCTGCGAT\n",
      "ENTER DNA2 SEQUENCE: ATCGTGCGTCGA\n",
      " DNA sequences are not MATCHING\n"
     ]
    }
   ],
   "source": [
    "# COMPARING TWO DNA SEQUENCES\n",
    "DNA1 = input(\"ENTER DNA1 SEQUENCE: \")\n",
    "DNA2 = input(\"ENTER DNA2 SEQUENCE: \")\n",
    "if DNA1==DNA2:\n",
    "    print (\"both the DNA sequences are MATCHING\")\n",
    "else:\n",
    "    print (\" DNA sequences are not MATCHING\")\n",
    "    "
   ]
  },
  {
   "cell_type": "code",
   "execution_count": 23,
   "id": "b4277bf5",
   "metadata": {},
   "outputs": [
    {
     "name": "stdout",
     "output_type": "stream",
     "text": [
      "ENTER DNA SEQUENCE: GCTGCGTAGCGTGACACGTGCAAAGGTGCAGA\n",
      "59.375\n"
     ]
    }
   ],
   "source": [
    "DNA = input(\"ENTER DNA SEQUENCE: \")\n",
    "G = DNA.count(\"G\")\n",
    "C = DNA.count(\"C\")\n",
    "A = DNA.count(\"A\")\n",
    "T = DNA.count(\"T\")\n",
    "GC_TOTAL = G+C\n",
    "TOTAL = G+C+T+A\n",
    "GC_CONTENT = (GC_TOTAL/TOTAL)*100\n",
    "print (GC_CONTENT)\n",
    "    "
   ]
  },
  {
   "cell_type": "code",
   "execution_count": 10,
   "id": "9d87f2cb",
   "metadata": {},
   "outputs": [
    {
     "name": "stdout",
     "output_type": "stream",
     "text": [
      "ENTER DNA SEQUENCE: ATGCGTGCAGTGCATGCAG\n",
      "good sequence\n",
      "57.89473684210527\n"
     ]
    }
   ],
   "source": [
    "# to check weather the given sequence has only ATGC and check the GC content of it\n",
    "DNA = input(\"ENTER DNA SEQUENCE: \")\n",
    "G = DNA.count(\"G\")\n",
    "C = DNA.count(\"C\")\n",
    "A = DNA.count(\"A\")\n",
    "T = DNA.count(\"T\")\n",
    "COUNT = A+C+G+T\n",
    "length = len(DNA)\n",
    "if (length/COUNT == 1) :\n",
    "    print (\"good sequence\")\n",
    "    GC_TOTAL = G+C\n",
    "    COUNT = G+C+T+A\n",
    "    GC_CONTENT = (GC_TOTAL/COUNT)*100\n",
    "    print (GC_CONTENT)\n",
    "else : \n",
    "     print (\"bad sequence\")\n",
    "\n",
    "    "
   ]
  }
 ],
 "metadata": {
  "kernelspec": {
   "display_name": "Python 3 (ipykernel)",
   "language": "python",
   "name": "python3"
  },
  "language_info": {
   "codemirror_mode": {
    "name": "ipython",
    "version": 3
   },
   "file_extension": ".py",
   "mimetype": "text/x-python",
   "name": "python",
   "nbconvert_exporter": "python",
   "pygments_lexer": "ipython3",
   "version": "3.9.13"
  }
 },
 "nbformat": 4,
 "nbformat_minor": 5
}
